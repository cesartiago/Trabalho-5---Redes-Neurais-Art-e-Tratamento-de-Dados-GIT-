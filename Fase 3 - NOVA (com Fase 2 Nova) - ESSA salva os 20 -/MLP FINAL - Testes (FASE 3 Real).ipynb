{
 "cells": [
  {
   "cell_type": "markdown",
   "metadata": {},
   "source": [
    "Importar bibliotecas"
   ]
  },
  {
   "cell_type": "code",
   "execution_count": 1,
   "metadata": {},
   "outputs": [],
   "source": [
    "import numpy as np # computação científica - utilizada nas curvas gaussinas\n",
    "\n",
    "import matplotlib.pyplot as plt # para geração de gráficos\n",
    "\n",
    "from sklearn.metrics import confusion_matrix, roc_curve, roc_auc_score, precision_recall_curve, auc # para a matrix de confusão\n",
    "\n",
    "from sklearn.neural_network import MLPClassifier # é utilizada para criar e treinar diferentes modelos de RNA com diversas combinações de hiperparâmetros\n",
    "\n",
    "import joblib\n",
    "import os"
   ]
  },
  {
   "cell_type": "markdown",
   "metadata": {},
   "source": [
    "Importar as variáveis usadas durante o treinamento"
   ]
  },
  {
   "cell_type": "code",
   "execution_count": 2,
   "metadata": {},
   "outputs": [],
   "source": [
    "#IMPORTANDO O CÓDIGO DA FASE 2\n",
    "\n",
    "# No momento que rodei todo o código (o da fase 2, aquele que enviei para a professora, junto com os seus resultados que foram gerados, eu MANDEI EXPORTAR LÁ NO COMEÇO AS SUAS VARIÁVEIS do conjunto de treinamento e teste)\n",
    "# caminho e nome do arquivo Python que você EXPORTOU\n",
    "arquivo_python = 'variaveis_mlp.py'\n",
    "\n",
    "# Importar as variáveis do arquivo Python\n",
    "variaveis_importadas = joblib.load(arquivo_python)\n",
    "\n",
    "# Atribuir as variáveis importadas a variáveis locais\n",
    "V1_norm_treino, V1_norm_teste, V2_norm_treino, V2_norm_teste, V7_norm_treino, V7_norm_teste, V8_norm_treino, V8_norm_teste, V12_norm_treino, V12_norm_teste, V14_norm_treino, V14_norm_teste, x_treino, x_teste, y_de_treino, y_de_teste = variaveis_importadas\n",
    "\n",
    "\n",
    "# Importar variável (no mesmo momento citado no 2º coment. desse bloco, eu também exportei a lista para armazenar as estatísticas dos modelos treinados e a lista com os modelos treinados)\n",
    "arquivo_python = 'estatisticas_modelos_e_lista_de_modelos_mlp.py'\n",
    "\n",
    "# Importar a lista de estatísticas do arquivo Python\n",
    "todos_os_modelos = joblib.load(arquivo_python)"
   ]
  },
  {
   "cell_type": "markdown",
   "metadata": {},
   "source": [
    "Testar cada modelo e salvar os resultados em um arquivo de texto:"
   ]
  },
  {
   "cell_type": "markdown",
   "metadata": {},
   "source": [
    "Carregar os modelos treinados"
   ]
  },
  {
   "cell_type": "code",
   "execution_count": 3,
   "metadata": {},
   "outputs": [],
   "source": [
    "pasta_modelos = 'modelos'\n",
    "lista_modelos = []\n",
    "\n",
    "# Listar todos os arquivos na pasta de modelos\n",
    "arquivos_modelos = os.listdir(pasta_modelos)\n",
    "\n",
    "# Carregar cada modelo na lista\n",
    "for arquivo in arquivos_modelos:\n",
    "    caminho_arquivo = os.path.join(pasta_modelos, arquivo)\n",
    "    modelo = joblib.load(caminho_arquivo)\n",
    "    lista_modelos.append(modelo)"
   ]
  },
  {
   "cell_type": "markdown",
   "metadata": {},
   "source": [
    "Calcular a média do desempenho do conjunto de redes iguais:"
   ]
  },
  {
   "cell_type": "code",
   "execution_count": 4,
   "metadata": {},
   "outputs": [],
   "source": [
    "# Criar um arquivo de texto para salvar os resultados\n",
    "arquivo_resultados = 'resultados_unicos_e_por_grupo.txt'\n",
    "\n",
    "# Dicionário para armazenar os modelos agrupados por hiperparâmetros e suas respectivas acurácias\n",
    "modelos_agrupados = {}\n",
    "\n",
    "# Abrir o arquivo de texto para escrever os resultados\n",
    "with open(arquivo_resultados, 'w') as file:\n",
    "    # Testar cada modelo e salvar os resultados\n",
    "    for i, modelo in enumerate(lista_modelos):\n",
    "        y_pred = modelo.predict(x_teste)\n",
    "        accuracy = np.mean(y_pred == y_de_teste) * 100\n",
    "        conf_matrix = confusion_matrix(y_de_teste, y_pred)\n",
    "\n",
    "        # Obter os hiperparâmetros do modelo atual\n",
    "        hiperparametros = (modelo.hidden_layer_sizes, modelo.learning_rate_init, modelo.momentum)\n",
    "\n",
    "        # Escrever os resultados no arquivo de texto\n",
    "        file.write(f\"Modelo {i+1}\\n\")\n",
    "        file.write(f\"Acurácia: {accuracy:.2f}\\n\")\n",
    "        file.write(f\"Matriz de Confusão:\\n{conf_matrix}\\n\\n\")\n",
    "\n",
    "        # Adicionar a acurácia do modelo ao grupo correspondente no dicionário\n",
    "        if hiperparametros in modelos_agrupados:\n",
    "            modelos_agrupados[hiperparametros].append(accuracy)\n",
    "        else:\n",
    "            modelos_agrupados[hiperparametros] = [accuracy]\n",
    "\n",
    "# Calcular a média do desempenho para cada grupo de modelos com os mesmos hiperparâmetros\n",
    "with open(arquivo_resultados, 'a') as file:\n",
    "    file.write(\"Média do desempenho para cada grupo de modelos:\\n\")\n",
    "    for hiperparametros, acuracias in modelos_agrupados.items():\n",
    "        media_desempenho_grupo = np.mean(acuracias)\n",
    "        file.write(f\"Hiperparâmetros: {hiperparametros}\\n\")\n",
    "        file.write(f\"Média do desempenho: {media_desempenho_grupo:.2f}\\n\\n\")\n"
   ]
  },
  {
   "cell_type": "code",
   "execution_count": 5,
   "metadata": {},
   "outputs": [
    {
     "name": "stdout",
     "output_type": "stream",
     "text": [
      "Média do desempenho geral: 71.27362055933486\n"
     ]
    }
   ],
   "source": [
    "# Calcular a média do desempenho (todas as redes)\n",
    "acuracias = [np.mean(modelo.predict(x_teste) == y_de_teste) * 100 for modelo in lista_modelos]\n",
    "media_desempenho = np.mean(acuracias)\n",
    "\n",
    "print(\"Média do desempenho geral:\", media_desempenho)\n"
   ]
  },
  {
   "cell_type": "markdown",
   "metadata": {},
   "source": [
    "Selecionar as 10 melhores redes com base na acurácia média:"
   ]
  },
  {
   "cell_type": "code",
   "execution_count": 6,
   "metadata": {},
   "outputs": [
    {
     "name": "stdout",
     "output_type": "stream",
     "text": [
      "<class 'list'>\n"
     ]
    }
   ],
   "source": [
    "# Verificar o tipo do objeto carregado\n",
    "print(type(todos_os_modelos))"
   ]
  },
  {
   "cell_type": "code",
   "execution_count": 7,
   "metadata": {},
   "outputs": [
    {
     "name": "stdout",
     "output_type": "stream",
     "text": [
      "Chaves presentes no primeiro elemento da lista:\n",
      "dict_keys(['hidden_layer_sizes', 'learning_rate_init', 'momentum', 'accuracy'])\n"
     ]
    }
   ],
   "source": [
    "# Verificar as chaves presentes em um dos elementos da lista (assumindo que a lista não está vazia)\n",
    "if todos_os_modelos:\n",
    "    chaves_do_primeiro_elemento = todos_os_modelos[0].keys()\n",
    "    print(\"Chaves presentes no primeiro elemento da lista:\")\n",
    "    print(chaves_do_primeiro_elemento)\n",
    "else:\n",
    "    print(\"A lista 'todos_os_modelos' está vazia.\")"
   ]
  },
  {
   "cell_type": "code",
   "execution_count": 8,
   "metadata": {},
   "outputs": [
    {
     "name": "stdout",
     "output_type": "stream",
     "text": [
      "As 10 Melhores Redes:\n",
      "Modelo 1\n",
      "Hiperparâmetros: (30, 15) 0.1 0.99\n",
      "Acurácia: 0.7968379446640317\n",
      "\n",
      "Modelo 2\n",
      "Hiperparâmetros: (30, 15) 0.01 0.9\n",
      "Acurácia: 0.7960474308300395\n",
      "\n",
      "Modelo 3\n",
      "Hiperparâmetros: (30, 15) 0.01 0.9\n",
      "Acurácia: 0.7873517786561266\n",
      "\n",
      "Modelo 4\n",
      "Hiperparâmetros: (20, 10) 0.01 0.9\n",
      "Acurácia: 0.7873517786561265\n",
      "\n",
      "Modelo 5\n",
      "Hiperparâmetros: (20, 10) 0.2 0.9\n",
      "Acurácia: 0.7869565217391304\n",
      "\n",
      "Modelo 6\n",
      "Hiperparâmetros: (30, 15) 0.01 0.9\n",
      "Acurácia: 0.7869565217391304\n",
      "\n",
      "Modelo 7\n",
      "Hiperparâmetros: (30, 15) 0.01 0.9\n",
      "Acurácia: 0.7782608695652173\n",
      "\n",
      "Modelo 8\n",
      "Hiperparâmetros: (30, 15) 0.01 0.99\n",
      "Acurácia: 0.7778656126482214\n",
      "\n",
      "Modelo 9\n",
      "Hiperparâmetros: (20, 10) 0.01 0.9\n",
      "Acurácia: 0.7703557312252964\n",
      "\n",
      "Modelo 10\n",
      "Hiperparâmetros: (20, 10) 0.1 0.9\n",
      "Acurácia: 0.7703557312252964\n",
      "\n"
     ]
    }
   ],
   "source": [
    "# Ordenar os modelos pelas maiores acurácias primeiro.\n",
    "todos_os_modelos.sort(key=lambda x: x[\"accuracy\"], reverse=True)\n",
    "\n",
    "# Selecionar as 10 melhores redes\n",
    "melhores_10_redes = todos_os_modelos[:10]\n",
    "\n",
    "# Imprimir as 10 melhores redes com suas acurácias\n",
    "print(\"As 10 Melhores Redes:\")\n",
    "for i, modelo_info in enumerate(melhores_10_redes):\n",
    "    print(f\"Modelo {i+1}\")\n",
    "    print(\"Hiperparâmetros:\", modelo_info[\"hidden_layer_sizes\"], modelo_info[\"learning_rate_init\"], modelo_info[\"momentum\"])\n",
    "    print(\"Acurácia:\", modelo_info[\"accuracy\"])\n",
    "    print()"
   ]
  },
  {
   "cell_type": "markdown",
   "metadata": {},
   "source": [
    "Teste individual de cada uma das 10 melhores - e depois a seleção do melhor / com o melhor desempenho aqui:"
   ]
  },
  {
   "cell_type": "code",
   "execution_count": 9,
   "metadata": {},
   "outputs": [
    {
     "name": "stdout",
     "output_type": "stream",
     "text": [
      "Modelo 1\n",
      "Acurácia: 73.47\n",
      "Matriz de Confusão:\n",
      "[[13  2]\n",
      " [11 23]]\n",
      "\n"
     ]
    },
    {
     "name": "stderr",
     "output_type": "stream",
     "text": [
      "d:\\Users\\tiago\\AppData\\Local\\Programs\\Python\\Python311\\Lib\\site-packages\\sklearn\\neural_network\\_multilayer_perceptron.py:691: ConvergenceWarning: Stochastic Optimizer: Maximum iterations (2000) reached and the optimization hasn't converged yet.\n",
      "  warnings.warn(\n"
     ]
    },
    {
     "name": "stdout",
     "output_type": "stream",
     "text": [
      "Modelo 2\n",
      "Acurácia: 67.35\n",
      "Matriz de Confusão:\n",
      "[[10  5]\n",
      " [11 23]]\n",
      "\n"
     ]
    },
    {
     "name": "stderr",
     "output_type": "stream",
     "text": [
      "d:\\Users\\tiago\\AppData\\Local\\Programs\\Python\\Python311\\Lib\\site-packages\\sklearn\\neural_network\\_multilayer_perceptron.py:691: ConvergenceWarning: Stochastic Optimizer: Maximum iterations (2000) reached and the optimization hasn't converged yet.\n",
      "  warnings.warn(\n"
     ]
    },
    {
     "name": "stdout",
     "output_type": "stream",
     "text": [
      "Modelo 3\n",
      "Acurácia: 71.43\n",
      "Matriz de Confusão:\n",
      "[[10  5]\n",
      " [ 9 25]]\n",
      "\n"
     ]
    },
    {
     "name": "stderr",
     "output_type": "stream",
     "text": [
      "d:\\Users\\tiago\\AppData\\Local\\Programs\\Python\\Python311\\Lib\\site-packages\\sklearn\\neural_network\\_multilayer_perceptron.py:691: ConvergenceWarning: Stochastic Optimizer: Maximum iterations (2000) reached and the optimization hasn't converged yet.\n",
      "  warnings.warn(\n"
     ]
    },
    {
     "name": "stdout",
     "output_type": "stream",
     "text": [
      "Modelo 4\n",
      "Acurácia: 69.39\n",
      "Matriz de Confusão:\n",
      "[[10  5]\n",
      " [10 24]]\n",
      "\n",
      "Modelo 5\n",
      "Acurácia: 69.39\n",
      "Matriz de Confusão:\n",
      "[[ 0 15]\n",
      " [ 0 34]]\n",
      "\n"
     ]
    },
    {
     "name": "stderr",
     "output_type": "stream",
     "text": [
      "d:\\Users\\tiago\\AppData\\Local\\Programs\\Python\\Python311\\Lib\\site-packages\\sklearn\\neural_network\\_multilayer_perceptron.py:691: ConvergenceWarning: Stochastic Optimizer: Maximum iterations (2000) reached and the optimization hasn't converged yet.\n",
      "  warnings.warn(\n"
     ]
    },
    {
     "name": "stdout",
     "output_type": "stream",
     "text": [
      "Modelo 6\n",
      "Acurácia: 77.55\n",
      "Matriz de Confusão:\n",
      "[[11  4]\n",
      " [ 7 27]]\n",
      "\n"
     ]
    },
    {
     "name": "stderr",
     "output_type": "stream",
     "text": [
      "d:\\Users\\tiago\\AppData\\Local\\Programs\\Python\\Python311\\Lib\\site-packages\\sklearn\\neural_network\\_multilayer_perceptron.py:691: ConvergenceWarning: Stochastic Optimizer: Maximum iterations (2000) reached and the optimization hasn't converged yet.\n",
      "  warnings.warn(\n"
     ]
    },
    {
     "name": "stdout",
     "output_type": "stream",
     "text": [
      "Modelo 7\n",
      "Acurácia: 75.51\n",
      "Matriz de Confusão:\n",
      "[[10  5]\n",
      " [ 7 27]]\n",
      "\n"
     ]
    },
    {
     "name": "stderr",
     "output_type": "stream",
     "text": [
      "d:\\Users\\tiago\\AppData\\Local\\Programs\\Python\\Python311\\Lib\\site-packages\\sklearn\\neural_network\\_multilayer_perceptron.py:691: ConvergenceWarning: Stochastic Optimizer: Maximum iterations (2000) reached and the optimization hasn't converged yet.\n",
      "  warnings.warn(\n"
     ]
    },
    {
     "name": "stdout",
     "output_type": "stream",
     "text": [
      "Modelo 8\n",
      "Acurácia: 79.59\n",
      "Matriz de Confusão:\n",
      "[[11  4]\n",
      " [ 6 28]]\n",
      "\n",
      "Modelo 9\n",
      "Acurácia: 73.47\n",
      "Matriz de Confusão:\n",
      "[[10  5]\n",
      " [ 8 26]]\n",
      "\n",
      "Modelo 10\n",
      "Acurácia: 69.39\n",
      "Matriz de Confusão:\n",
      "[[ 7  8]\n",
      " [ 7 27]]\n",
      "\n"
     ]
    },
    {
     "name": "stderr",
     "output_type": "stream",
     "text": [
      "d:\\Users\\tiago\\AppData\\Local\\Programs\\Python\\Python311\\Lib\\site-packages\\sklearn\\neural_network\\_multilayer_perceptron.py:691: ConvergenceWarning: Stochastic Optimizer: Maximum iterations (2000) reached and the optimization hasn't converged yet.\n",
      "  warnings.warn(\n"
     ]
    }
   ],
   "source": [
    "from sklearn.metrics import confusion_matrix\n",
    "\n",
    "# Variáveis para acompanhar o melhor modelo e sua acurácia\n",
    "melhor_modelo = None\n",
    "melhor_acuracia = 0\n",
    "\n",
    "# Testar cada modelo individualmente e imprimir os resultados\n",
    "for i, modelo_info in enumerate(melhores_10_redes):\n",
    "    modelo = MLPClassifier(\n",
    "        hidden_layer_sizes=modelo_info[\"hidden_layer_sizes\"],\n",
    "        max_iter=2000,\n",
    "        tol=1e-7,\n",
    "        learning_rate_init=modelo_info[\"learning_rate_init\"],\n",
    "        momentum=modelo_info[\"momentum\"],\n",
    "        solver=\"sgd\",\n",
    "        activation=\"relu\",\n",
    "        learning_rate=\"constant\",\n",
    "        verbose=0\n",
    "    )\n",
    "    modelo.fit(x_treino, y_de_treino)\n",
    "    y_pred = modelo.predict(x_teste)\n",
    "    accuracy = np.mean(y_pred == y_de_teste) * 100\n",
    "    conf_matrix = confusion_matrix(y_de_teste, y_pred)\n",
    "\n",
    "    # Verificar se esse modelo é o melhor até agora\n",
    "    if accuracy > melhor_acuracia:\n",
    "        melhor_acuracia = accuracy\n",
    "        melhor_modelo = modelo\n",
    "\n",
    "    # Imprimir os resultados do modelo atual\n",
    "    print(f\"Modelo {i+1}\")\n",
    "    print(f\"Acurácia: {accuracy:.2f}\")\n",
    "    print(f\"Matriz de Confusão:\\n{conf_matrix}\\n\")\n",
    "\n"
   ]
  },
  {
   "cell_type": "markdown",
   "metadata": {},
   "source": [
    "Escrever a matriz de confusão da melhor rede:"
   ]
  },
  {
   "cell_type": "code",
   "execution_count": 10,
   "metadata": {},
   "outputs": [
    {
     "name": "stdout",
     "output_type": "stream",
     "text": [
      "Melhor Modelo:\n",
      "Acurácia: 79.59\n",
      "Matriz de Confusão:\n",
      "[[11  4]\n",
      " [ 6 28]]\n"
     ]
    }
   ],
   "source": [
    "# Imprimir os resultados do melhor modelo\n",
    "print(\"Melhor Modelo:\")\n",
    "print(f\"Acurácia: {melhor_acuracia:.2f}\")\n",
    "print(\"Matriz de Confusão:\")\n",
    "print(confusion_matrix(y_de_teste, melhor_modelo.predict(x_teste)))"
   ]
  }
 ],
 "metadata": {
  "kernelspec": {
   "display_name": "Python 3",
   "language": "python",
   "name": "python3"
  },
  "language_info": {
   "codemirror_mode": {
    "name": "ipython",
    "version": 3
   },
   "file_extension": ".py",
   "mimetype": "text/x-python",
   "name": "python",
   "nbconvert_exporter": "python",
   "pygments_lexer": "ipython3",
   "version": "3.11.3"
  },
  "orig_nbformat": 4
 },
 "nbformat": 4,
 "nbformat_minor": 2
}
