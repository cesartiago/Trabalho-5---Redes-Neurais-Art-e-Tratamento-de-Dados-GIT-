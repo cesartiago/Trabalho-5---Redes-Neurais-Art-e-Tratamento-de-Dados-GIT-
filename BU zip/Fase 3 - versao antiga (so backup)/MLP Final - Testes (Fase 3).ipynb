{
 "cells": [
  {
   "cell_type": "markdown",
   "metadata": {},
   "source": [
    "Importar bibliotecas"
   ]
  },
  {
   "cell_type": "code",
   "execution_count": null,
   "metadata": {},
   "outputs": [],
   "source": [
    "import numpy as np # computação científica - utilizada nas curvas gaussinas\n",
    "\n",
    "import matplotlib.pyplot as plt # para geração de gráficos\n",
    "\n",
    "from sklearn.metrics import confusion_matrix, roc_curve, roc_auc_score, precision_recall_curve, auc # para a matrix de confusão\n",
    "\n",
    "from sklearn.neural_network import MLPClassifier # é utilizada para criar e treinar diferentes modelos de RNA com diversas combinações de hiperparâmetros\n",
    "\n",
    "import joblib\n",
    "import os"
   ]
  },
  {
   "cell_type": "markdown",
   "metadata": {},
   "source": [
    "Importar as variáveis usadas durante o treinamento"
   ]
  },
  {
   "cell_type": "code",
   "execution_count": 7,
   "metadata": {},
   "outputs": [],
   "source": [
    "#IMPORTANDO O CÓDIGO DA FASE 2\n",
    "# caminho e nome do arquivo Python que você EXPORTOU\n",
    "arquivo_python = 'variaveis_mlp.py'\n",
    "\n",
    "# Importar as variáveis do arquivo Python\n",
    "variaveis_importadas = joblib.load(arquivo_python)\n",
    "\n",
    "# Atribuir as variáveis importadas a variáveis locais\n",
    "V1_norm_treino, V1_norm_teste, V2_norm_treino, V2_norm_teste, V7_norm_treino, V7_norm_teste, V8_norm_treino, V8_norm_teste, V12_norm_treino, V12_norm_teste, V14_norm_treino, V14_norm_teste, x_treino, x_teste, y_de_treino, y_de_teste = variaveis_importadas\n",
    "\n",
    "\n",
    "# Importar variável\n",
    "arquivo_python = 'estatisticas_modelos_mlp.py'\n",
    "\n",
    "# Importar a lista de estatísticas do arquivo Python\n",
    "estatisticas_dos_modelos = joblib.load(arquivo_python)"
   ]
  },
  {
   "cell_type": "markdown",
   "metadata": {},
   "source": [
    "Testar cada modelo e salvar os resultados em um arquivo de texto:"
   ]
  },
  {
   "cell_type": "markdown",
   "metadata": {},
   "source": [
    "Carregar os modelos treinados"
   ]
  },
  {
   "cell_type": "code",
   "execution_count": null,
   "metadata": {},
   "outputs": [],
   "source": [
    "pasta_modelos = 'modelos (veio da fase 2)'\n",
    "lista_modelos = []\n",
    "\n",
    "# Listar todos os arquivos na pasta de modelos\n",
    "arquivos_modelos = os.listdir(pasta_modelos)\n",
    "\n",
    "# Carregar cada modelo na lista\n",
    "for arquivo in arquivos_modelos:\n",
    "    caminho_arquivo = os.path.join(pasta_modelos, arquivo)\n",
    "    modelo = joblib.load(caminho_arquivo)\n",
    "    lista_modelos.append(modelo)"
   ]
  },
  {
   "cell_type": "code",
   "execution_count": 8,
   "metadata": {},
   "outputs": [],
   "source": [
    "# Criar um arquivo de texto para salvar os resultados\n",
    "arquivo_resultados = 'resultados_mlp.txt'\n",
    "\n",
    "with open(arquivo_resultados, 'w') as file:\n",
    "    # Testar cada modelo e salvar os resultados\n",
    "    for i, modelo in enumerate(lista_modelos):\n",
    "        y_pred = modelo.predict(x_teste)\n",
    "        accuracy = np.mean(y_pred == y_de_teste) * 100\n",
    "        conf_matrix = confusion_matrix(y_de_teste, y_pred)\n",
    "\n",
    "        # Escrever os resultados no arquivo de texto\n",
    "        file.write(f\"Modelo {i+1}\\n\")\n",
    "        file.write(f\"Acurácia: {accuracy:.2f}\\n\")\n",
    "        file.write(f\"Matriz de Confusão:\\n{conf_matrix}\\n\\n\")\n"
   ]
  },
  {
   "cell_type": "markdown",
   "metadata": {},
   "source": [
    "Calcular a média do desempenho do conjunto de redes iguais:"
   ]
  },
  {
   "cell_type": "code",
   "execution_count": 9,
   "metadata": {},
   "outputs": [
    {
     "name": "stdout",
     "output_type": "stream",
     "text": [
      "Média do desempenho do conjunto de redes iguais: 81.859410430839\n"
     ]
    }
   ],
   "source": [
    "# Calcular a média do desempenho do conjunto de redes iguais\n",
    "acuracias = [np.mean(modelo.predict(x_teste) == y_de_teste) * 100 for modelo in lista_modelos]\n",
    "media_desempenho = np.mean(acuracias)\n",
    "\n",
    "print(\"Média do desempenho do conjunto de redes iguais:\", media_desempenho)\n"
   ]
  },
  {
   "cell_type": "markdown",
   "metadata": {},
   "source": [
    "Selecionar as 10 melhores redes com base na acurácia média:"
   ]
  },
  {
   "cell_type": "code",
   "execution_count": 10,
   "metadata": {},
   "outputs": [
    {
     "name": "stdout",
     "output_type": "stream",
     "text": [
      "As 10 melhores redes:\n",
      "Modelo 1\n",
      "Hiperparâmetros: (20, 10) 0.01 0.9\n",
      "Acurácia Média: 79.89795918367346\n",
      "Desvio Padrão da Acurácia: 7.136294361186065\n",
      "\n",
      "Modelo 2\n",
      "Hiperparâmetros: (30, 15) 0.01 0.9\n",
      "Acurácia Média: 78.67346938775512\n",
      "Desvio Padrão da Acurácia: 8.047003731486683\n",
      "\n",
      "Modelo 3\n",
      "Hiperparâmetros: (30, 15) 0.1 0.5\n",
      "Acurácia Média: 77.75510204081634\n",
      "Desvio Padrão da Acurácia: 2.730426155155028\n",
      "\n",
      "Modelo 4\n",
      "Hiperparâmetros: (30, 15) 0.1 0.9\n",
      "Acurácia Média: 77.65306122448979\n",
      "Desvio Padrão da Acurácia: 5.060031129884669\n",
      "\n",
      "Modelo 5\n",
      "Hiperparâmetros: (30, 15) 0.2 0.9\n",
      "Acurácia Média: 77.34693877551021\n",
      "Desvio Padrão da Acurácia: 4.558838347691565\n",
      "\n",
      "Modelo 6\n",
      "Hiperparâmetros: (20, 10) 0.1 0.5\n",
      "Acurácia Média: 76.42857142857144\n",
      "Desvio Padrão da Acurácia: 3.89763862342536\n",
      "\n",
      "Modelo 7\n",
      "Hiperparâmetros: (20, 10) 0.2 0.9\n",
      "Acurácia Média: 75.71428571428571\n",
      "Desvio Padrão da Acurácia: 6.947773277775186\n",
      "\n",
      "Modelo 8\n",
      "Hiperparâmetros: (10, 5) 0.01 0.9\n",
      "Acurácia Média: 74.79591836734694\n",
      "Desvio Padrão da Acurácia: 7.697828250017265\n",
      "\n",
      "Modelo 9\n",
      "Hiperparâmetros: (10, 5) 0.1 0.5\n",
      "Acurácia Média: 74.69387755102044\n",
      "Desvio Padrão da Acurácia: 3.999166926992943\n",
      "\n",
      "Modelo 10\n",
      "Hiperparâmetros: (30, 15) 0.1 0.99\n",
      "Acurácia Média: 74.48979591836734\n",
      "Desvio Padrão da Acurácia: 7.054851435691266\n",
      "\n"
     ]
    }
   ],
   "source": [
    "# Ordenar os modelos pelo desempenho médio (maiores acurácias primeiro)\n",
    "estatisticas_dos_modelos.sort(key=lambda x: x[\"mean_accuracy\"], reverse=True)\n",
    "\n",
    "# Selecionar as 10 melhores redes\n",
    "melhores_redes = estatisticas_dos_modelos[:10]\n",
    "\n",
    "print(\"As 10 melhores redes:\")\n",
    "for i, model_stats in enumerate(melhores_redes):\n",
    "    print(f\"Modelo {i+1}\")\n",
    "    print(\"Hiperparâmetros:\", model_stats[\"hidden_layer_sizes\"], model_stats[\"learning_rate_init\"], model_stats[\"momentum\"])\n",
    "    print(\"Acurácia Média:\", model_stats[\"mean_accuracy\"])\n",
    "    print(\"Desvio Padrão da Acurácia:\", model_stats[\"std_accuracy\"])\n",
    "    print()\n"
   ]
  },
  {
   "cell_type": "markdown",
   "metadata": {},
   "source": [
    "Escolher a melhor rede das 10 melhores com o melhor desempenho:"
   ]
  },
  {
   "cell_type": "code",
   "execution_count": 11,
   "metadata": {},
   "outputs": [
    {
     "name": "stdout",
     "output_type": "stream",
     "text": [
      "Melhor rede:\n",
      "Hiperparâmetros: (20, 10) 0.01 0.9\n",
      "Acurácia Média: 79.89795918367346\n",
      "Desvio Padrão da Acurácia: 7.136294361186065\n",
      "Acurácia no conjunto de teste: 83.6734693877551\n"
     ]
    },
    {
     "name": "stderr",
     "output_type": "stream",
     "text": [
      "d:\\Users\\tiago\\AppData\\Local\\Programs\\Python\\Python311\\Lib\\site-packages\\sklearn\\neural_network\\_multilayer_perceptron.py:691: ConvergenceWarning: Stochastic Optimizer: Maximum iterations (2000) reached and the optimization hasn't converged yet.\n",
      "  warnings.warn(\n"
     ]
    }
   ],
   "source": [
    "# Selecionar a melhor rede das 10 melhores com o melhor desempenho\n",
    "melhor_modelo_stats = max(melhores_redes, key=lambda x: x[\"mean_accuracy\"])\n",
    "melhor_modelo = MLPClassifier(\n",
    "    hidden_layer_sizes=melhor_modelo_stats[\"hidden_layer_sizes\"],\n",
    "    max_iter=2000,\n",
    "    tol=1e-7,\n",
    "    learning_rate_init=melhor_modelo_stats[\"learning_rate_init\"],\n",
    "    momentum=melhor_modelo_stats[\"momentum\"],\n",
    "    solver=\"sgd\",\n",
    "    activation=\"relu\",\n",
    "    learning_rate=\"constant\",\n",
    "    verbose=0\n",
    ")\n",
    "\n",
    "melhor_modelo.fit(x_treino, y_de_treino)\n",
    "y_pred_melhor = melhor_modelo.predict(x_teste)\n",
    "acuracia_melhor = np.mean(y_pred_melhor == y_de_teste) * 100\n",
    "\n",
    "print(\"Melhor rede:\")\n",
    "print(\"Hiperparâmetros:\", melhor_modelo_stats[\"hidden_layer_sizes\"], melhor_modelo_stats[\"learning_rate_init\"], melhor_modelo_stats[\"momentum\"])\n",
    "print(\"Acurácia Média:\", melhor_modelo_stats[\"mean_accuracy\"])\n",
    "print(\"Desvio Padrão da Acurácia:\", melhor_modelo_stats[\"std_accuracy\"])\n",
    "print(\"Acurácia no conjunto de teste:\", acuracia_melhor)\n"
   ]
  },
  {
   "cell_type": "markdown",
   "metadata": {},
   "source": [
    "Escrever a matriz de confusão da melhor rede:"
   ]
  },
  {
   "cell_type": "code",
   "execution_count": 12,
   "metadata": {},
   "outputs": [
    {
     "data": {
      "image/png": "[encoded data removed]",
      "text/plain": [
       "<Figure size 600x600 with 2 Axes>"
      ]
     },
     "metadata": {},
     "output_type": "display_data"
    }
   ],
   "source": [
    "# Matriz de confusão da melhor rede\n",
    "conf_matrix_melhor = confusion_matrix(y_de_teste, y_pred_melhor)\n",
    "\n",
    "# Plot da matriz de confusão\n",
    "plt.figure(figsize=(6, 6))\n",
    "plt.imshow(conf_matrix_melhor, cmap='Blues', interpolation='nearest')\n",
    "plt.title('Matriz de Confusão Melhor Rede')\n",
    "plt.xticks([0, 1], ['Classe 0', 'Classe 1'])\n",
    "plt.yticks([0, 1], ['Classe 0', 'Classe 1'])\n",
    "for i in range(2):\n",
    "    for j in range(2):\n",
    "        plt.text(j, i, str(conf_matrix_melhor[i, j]), ha='center', va='center', color='white' if conf_matrix_melhor[i, j] > 50 else 'black')\n",
    "\n",
    "plt.colorbar()\n",
    "plt.xlabel('Valores Previstos')\n",
    "plt.ylabel('Valores Reais')\n",
    "plt.grid(False)\n",
    "plt.show()\n"
   ]
  }
 ],
 "metadata": {
  "kernelspec": {
   "display_name": "Python 3",
   "language": "python",
   "name": "python3"
  },
  "language_info": {
   "codemirror_mode": {
    "name": "ipython",
    "version": 3
   },
   "file_extension": ".py",
   "mimetype": "text/x-python",
   "name": "python",
   "nbconvert_exporter": "python",
   "pygments_lexer": "ipython3",
   "version": "3.11.3"
  },
  "orig_nbformat": 4
 },
 "nbformat": 4,
 "nbformat_minor": 2
}
